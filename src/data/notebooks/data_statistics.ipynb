{
 "cells": [
  {
   "cell_type": "code",
   "execution_count": 2,
   "metadata": {},
   "outputs": [],
   "source": [
    "%load_ext autoreload\n",
    "%autoreload 2"
   ]
  },
  {
   "cell_type": "code",
   "execution_count": 8,
   "metadata": {},
   "outputs": [
    {
     "name": "stderr",
     "output_type": "stream",
     "text": [
      "/home/mila/c/cesare.spinoso/.conda/envs/rsasumm/lib/python3.9/site-packages/tqdm/auto.py:21: TqdmWarning: IProgress not found. Please update jupyter and ipywidgets. See https://ipywidgets.readthedocs.io/en/stable/user_install.html\n",
      "  from .autonotebook import tqdm as notebook_tqdm\n"
     ]
    }
   ],
   "source": [
    "import os \n",
    "\n",
    "import pandas as pd\n",
    "\n",
    "from src import SRC_DIRECTORY\n",
    "from src.rescoring.rescore_summaries import get_latent_column_name"
   ]
  },
  {
   "cell_type": "code",
   "execution_count": 9,
   "metadata": {},
   "outputs": [],
   "source": [
    "covidet_path = os.path.join(SRC_DIRECTORY, '..', 'data', 'covidet', 'test.csv')\n",
    "db_path = os.path.join(SRC_DIRECTORY, '..', 'data', 'debatepedia', 'test.csv')\n",
    "duc_path = os.path.join(SRC_DIRECTORY, '..', 'data', 'duc', 'duc_single', 'preprocessed.csv')\n",
    "multiop_path = os.path.join(SRC_DIRECTORY, '..', 'data', 'multioped', 'test.csv')\n",
    "qmsum_path = os.path.join(SRC_DIRECTORY, '..', 'data', 'qmsum', 'test.csv')\n",
    "paths = {\n",
    "    \"covidet\": covidet_path,\n",
    "    \"debatepedia\": db_path,\n",
    "    \"duc_single\": duc_path,\n",
    "    \"multioped\": multiop_path,\n",
    "    \"qmsum\": qmsum_path\n",
    "}"
   ]
  },
  {
   "cell_type": "code",
   "execution_count": 24,
   "metadata": {},
   "outputs": [
    {
     "name": "stdout",
     "output_type": "stream",
     "text": [
      "covidet\n",
      "total length  1524\n",
      "unique documents  398\n",
      "unique doc and latent  1043\n",
      "debatepedia\n",
      "total length  893\n",
      "unique documents  885\n",
      "unique doc and latent  888\n",
      "unique doc and query  889\n",
      "duc_single\n",
      "total length  4500\n",
      "unique documents  1124\n",
      "unique doc and latent  1124\n",
      "unique doc and question  1124\n",
      "multioped\n",
      "total length  531\n",
      "unique documents  531\n",
      "unique doc and latent  531\n",
      "unique doc and question  531\n",
      "qmsum\n",
      "total length  244\n",
      "unique documents  242\n",
      "unique doc and latent  244\n",
      "unique doc and question  244\n"
     ]
    }
   ],
   "source": [
    "for dsname, path_ in paths.items():\n",
    "    df = pd.read_csv(path_)\n",
    "    latent_column_name = get_latent_column_name(dsname)\n",
    "    print(dsname)\n",
    "    print(\"total length \", len(df))\n",
    "    print(\"unique documents \", len(set(df[\"document\"].values.tolist())))\n",
    "    print(\"unique doc and latent \", len(set(zip(df[\"document\"], df[latent_column_name]))))\n",
    "    if df[\"question\"].isna().sum() == 0:\n",
    "        print(\"unique doc and question \", len(set(zip(df[\"document\"], df[\"question\"]))))\n",
    "    if \"query\" in df.columns and df[\"query\"].isna().sum() == 0:\n",
    "        print(\"unique doc and query \", len(set(zip(df[\"document\"], df[\"query\"]))))"
   ]
  },
  {
   "cell_type": "code",
   "execution_count": 22,
   "metadata": {},
   "outputs": [
    {
     "data": {
      "text/plain": [
       "set()"
      ]
     },
     "execution_count": 22,
     "metadata": {},
     "output_type": "execute_result"
    }
   ],
   "source": [
    "df = pd.read_csv(db_path)\n",
    "latent_column_name = get_latent_column_name(\"debatepedia\")\n",
    "{d for (d, _ ) in set(zip(df[\"document\"], df[\"query\"]))} - {d for (d, _) in set(zip(df[\"document\"], df[latent_column_name]))}"
   ]
  },
  {
   "cell_type": "code",
   "execution_count": null,
   "metadata": {},
   "outputs": [],
   "source": []
  }
 ],
 "metadata": {
  "kernelspec": {
   "display_name": "Python 3",
   "language": "python",
   "name": "python3"
  },
  "language_info": {
   "codemirror_mode": {
    "name": "ipython",
    "version": 3
   },
   "file_extension": ".py",
   "mimetype": "text/x-python",
   "name": "python",
   "nbconvert_exporter": "python",
   "pygments_lexer": "ipython3",
   "version": "3.9.18"
  }
 },
 "nbformat": 4,
 "nbformat_minor": 2
}
