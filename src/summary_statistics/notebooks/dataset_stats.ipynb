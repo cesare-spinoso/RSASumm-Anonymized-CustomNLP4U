{
 "cells": [
  {
   "cell_type": "code",
   "execution_count": 3,
   "metadata": {},
   "outputs": [],
   "source": [
    "import pandas as pd\n",
    "\n",
    "from src.utils.dataset import get_question_column_name\n",
    "from src.rescoring.rescore_summaries import get_latent_column_name\n",
    "\n",
    "datasets = {\n",
    "    \"covidet\": \"/home/mila/c/cesare.spinoso/RSASumm/data/covidet/test.csv\",\n",
    "    \"debatepedia\": \"/home/mila/c/cesare.spinoso/RSASumm/data/debatepedia/test.csv\",\n",
    "    \"duc_single\": \"/home/mila/c/cesare.spinoso/RSASumm/data/duc/duc_single/preprocessed.csv\",\n",
    "    \"multioped\": \"/home/mila/c/cesare.spinoso/RSASumm/data/multioped/test.csv\",\n",
    "    \"qmsum\": \"/home/mila/c/cesare.spinoso/RSASumm/data/qmsum/test_new.csv\",\n",
    "    \"squality\": \"/home/mila/c/cesare.spinoso/RSASumm/data/squality/test.csv\",\n",
    "}"
   ]
  },
  {
   "cell_type": "code",
   "execution_count": 4,
   "metadata": {},
   "outputs": [
    {
     "name": "stdout",
     "output_type": "stream",
     "text": [
      "================================================================================\n",
      "Dataset name: covidet\n",
      "Source len 170.51771653543307\n",
      "Summary len 21.85236220472441\n",
      "Latent len 1.0\n",
      "Question len 6.0\n",
      "\n",
      "1043\n",
      "================================================================================\n",
      "Dataset name: debatepedia\n",
      "Source len 69.79507278835386\n",
      "Summary len 9.867861142217246\n",
      "Latent len 1.4860022396416572\n",
      "Question len 9.048152295632699\n",
      "\n",
      "893\n",
      "================================================================================\n",
      "Dataset name: duc_single\n",
      "Source len 465.58844444444446\n",
      "Summary len 243.93333333333334\n",
      "Latent len 3.7111111111111112\n",
      "Question len 21.57777777777778\n",
      "\n",
      "1124\n",
      "================================================================================\n",
      "Dataset name: multioped\n",
      "Source len 925.1845574387947\n",
      "Summary len 102.69868173258004\n",
      "Latent len 6.67984934086629\n",
      "Question len 7.446327683615819\n",
      "\n",
      "531\n",
      "================================================================================\n",
      "Dataset name: qmsum\n",
      "Source len 892.7032967032967\n",
      "Summary len 62.55970695970696\n",
      "Latent len 13.071794871794872\n",
      "Question len 13.071794871794872\n",
      "\n",
      "1365\n",
      "================================================================================\n",
      "Dataset name: squality\n",
      "Source len 4986.039682539683\n",
      "Summary len 228.1329365079365\n",
      "Latent len 9.063492063492063\n",
      "Question len 9.063492063492063\n",
      "\n",
      "252\n"
     ]
    }
   ],
   "source": [
    "for dataset_name, dataset_path in datasets.items():\n",
    "    print(\"=\"*80)\n",
    "    print(f\"Dataset name: {dataset_name}\")\n",
    "    df = pd.read_csv(dataset_path)\n",
    "    question_column_name = get_question_column_name(dataset_name)\n",
    "    latent_column_name = get_latent_column_name(dataset_name)\n",
    "    if dataset_name == \"covidet\":\n",
    "        df[question_column_name] = df[\"emotion\"].apply(lambda emotion : f\"Describe the {emotion} of this post.\")\n",
    "    print(\"Source len\", df[\"document\"].apply(lambda x: len(x.split())).mean())\n",
    "    print(\"Summary len\", df[\"summary\"].apply(lambda x: len(x.split())).mean())\n",
    "    print(\"Latent len\", df[latent_column_name].apply(lambda x: len(x.split())).mean())\n",
    "    print(\"Question len\", df[question_column_name].apply(lambda x: len(x.split())).mean())\n",
    "    print()\n",
    "    print(len(set(zip(df[\"document\"], df[\"question\"]))))"
   ]
  },
  {
   "cell_type": "code",
   "execution_count": null,
   "metadata": {},
   "outputs": [],
   "source": []
  }
 ],
 "metadata": {
  "kernelspec": {
   "display_name": "Python 3",
   "language": "python",
   "name": "python3"
  },
  "language_info": {
   "codemirror_mode": {
    "name": "ipython",
    "version": 3
   },
   "file_extension": ".py",
   "mimetype": "text/x-python",
   "name": "python",
   "nbconvert_exporter": "python",
   "pygments_lexer": "ipython3",
   "version": "3.9.19"
  }
 },
 "nbformat": 4,
 "nbformat_minor": 2
}
