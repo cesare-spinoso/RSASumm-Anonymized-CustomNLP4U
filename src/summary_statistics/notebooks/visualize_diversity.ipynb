{
 "cells": [
  {
   "cell_type": "code",
   "execution_count": 1,
   "metadata": {},
   "outputs": [],
   "source": [
    "%load_ext autoreload\n",
    "%autoreload 2"
   ]
  },
  {
   "cell_type": "code",
   "execution_count": 4,
   "metadata": {},
   "outputs": [],
   "source": [
    "from src.utils.helper import read_yaml\n",
    "from src.utils.visualizations import convert_diversity_json_to_df, pretty_print"
   ]
  },
  {
   "cell_type": "code",
   "execution_count": 5,
   "metadata": {},
   "outputs": [],
   "source": [
    "yaml_file_path = \"/home/mila/c/cesare.spinoso/RSASumm/src/summary_statistics/summary_statistics/summary_diversity.yaml\"\n",
    "yaml_contents = read_yaml(yaml_file_path)"
   ]
  },
  {
   "cell_type": "code",
   "execution_count": 8,
   "metadata": {},
   "outputs": [
    {
     "name": "stdout",
     "output_type": "stream",
     "text": [
      "generic_summaries - LCS\n",
      "+-------------+----------------+---------------+------------------+---------------+--------------+\n",
      "|             |   bart_generic |   led_generic |   llama2_generic |   peg_generic |   t5_generic |\n",
      "|-------------+----------------+---------------+------------------+---------------+--------------|\n",
      "| covidet     |          0.345 |         0.611 |            0.191 |         0.196 |        0.677 |\n",
      "| debatepedia |          0.286 |         0.536 |            0.269 |         0.097 |        0.531 |\n",
      "| duc_single  |          0.363 |         0.48  |            0.096 |         0.226 |        0.354 |\n",
      "| multioped   |          0.412 |         0.54  |            0.095 |         0.267 |        0.581 |\n",
      "| qmsum       |          0.397 |         0.568 |            0.13  |         0.256 |        0.546 |\n",
      "+-------------+----------------+---------------+------------------+---------------+--------------+\n",
      "generic_summaries - Hamming\n",
      "+-------------+----------------+---------------+------------------+---------------+--------------+\n",
      "|             |   bart_generic |   led_generic |   llama2_generic |   peg_generic |   t5_generic |\n",
      "|-------------+----------------+---------------+------------------+---------------+--------------|\n",
      "| covidet     |          0.756 |         0.943 |            0.381 |         0.357 |        0.927 |\n",
      "| debatepedia |          0.7   |         0.935 |            0.503 |         0.158 |        0.876 |\n",
      "| duc_single  |          0.854 |         0.933 |            0.246 |         0.427 |        0.746 |\n",
      "| multioped   |          0.848 |         0.936 |            0.183 |         0.531 |        0.916 |\n",
      "| qmsum       |          0.795 |         0.935 |            0.235 |         0.582 |        0.918 |\n",
      "+-------------+----------------+---------------+------------------+---------------+--------------+\n",
      "e2e_summaries - LCS\n",
      "+-------------+------------+-----------+--------------+\n",
      "|             |   bart_e2e |   led_e2e |   llama2_e2e |\n",
      "|-------------+------------+-----------+--------------|\n",
      "| covidet     |      0.372 |     0.623 |        0.197 |\n",
      "| debatepedia |      0.35  |     0.538 |        0.289 |\n",
      "| duc_single  |      0.372 |     0.514 |        0.135 |\n",
      "| multioped   |      0.416 |     0.603 |        0.095 |\n",
      "| qmsum       |      0.443 |     0.568 |        0.1   |\n",
      "+-------------+------------+-----------+--------------+\n",
      "e2e_summaries - Hamming\n",
      "+-------------+------------+-----------+--------------+\n",
      "|             |   bart_e2e |   led_e2e |   llama2_e2e |\n",
      "|-------------+------------+-----------+--------------|\n",
      "| covidet     |      0.765 |     0.927 |        0.638 |\n",
      "| debatepedia |      0.788 |     0.938 |        0.546 |\n",
      "| duc_single  |      0.853 |     0.935 |        0.277 |\n",
      "| multioped   |      0.846 |     0.934 |        0.178 |\n",
      "| qmsum       |      0.841 |     0.935 |        0.201 |\n",
      "+-------------+------------+-----------+--------------+\n"
     ]
    }
   ],
   "source": [
    "for summary_type, metrics in yaml_contents.items():\n",
    "    for metric_name, json_path in metrics.items():\n",
    "        df = convert_diversity_json_to_df(json_path, diversity_to_exclude=[\"random\"])\n",
    "        pretty_print(title=f\"{summary_type} - {metric_name}\", df=df)"
   ]
  },
  {
   "cell_type": "code",
   "execution_count": null,
   "metadata": {},
   "outputs": [],
   "source": []
  }
 ],
 "metadata": {
  "kernelspec": {
   "display_name": "Python 3",
   "language": "python",
   "name": "python3"
  },
  "language_info": {
   "codemirror_mode": {
    "name": "ipython",
    "version": 3
   },
   "file_extension": ".py",
   "mimetype": "text/x-python",
   "name": "python",
   "nbconvert_exporter": "python",
   "pygments_lexer": "ipython3",
   "version": "3.9.18"
  }
 },
 "nbformat": 4,
 "nbformat_minor": 2
}
